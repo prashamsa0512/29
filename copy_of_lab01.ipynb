{
  "nbformat": 4,
  "nbformat_minor": 0,
  "metadata": {
    "colab": {
      "provenance": [],
      "authorship_tag": "ABX9TyPyGIoIxBjnZ8aI4wrpSsmE",
      "include_colab_link": true
    },
    "kernelspec": {
      "name": "python3",
      "display_name": "Python 3"
    },
    "language_info": {
      "name": "python"
    }
  },
  "cells": [
    {
      "cell_type": "markdown",
      "metadata": {
        "id": "view-in-github",
        "colab_type": "text"
      },
      "source": [
        "<a href=\"https://colab.research.google.com/github/prashamsa0512/29/blob/main/copy_of_lab01.ipynb\" target=\"_parent\"><img src=\"https://colab.research.google.com/assets/colab-badge.svg\" alt=\"Open In Colab\"/></a>"
      ]
    },
    {
      "cell_type": "code",
      "execution_count": null,
      "metadata": {
        "id": "pi0Zg96t4El_",
        "colab": {
          "base_uri": "https://localhost:8080/"
        },
        "outputId": "48ad42a1-b013-4156-9865-db37c2fe943c"
      },
      "outputs": [
        {
          "output_type": "execute_result",
          "data": {
            "text/plain": [
              "array([1, 2, 3])"
            ]
          },
          "metadata": {},
          "execution_count": 1
        }
      ],
      "source": [
        "import numpy as np\n",
        "lst1=[1,2,3]\n",
        "array1=np.array(lst1)\n",
        "array1\n"
      ]
    },
    {
      "cell_type": "code",
      "source": [
        "type(lst1)"
      ],
      "metadata": {
        "colab": {
          "base_uri": "https://localhost:8080/"
        },
        "id": "5ba552S15YTl",
        "outputId": "48211639-0594-4ae4-cd0a-7aab8f6f5e31"
      },
      "execution_count": null,
      "outputs": [
        {
          "output_type": "execute_result",
          "data": {
            "text/plain": [
              "list"
            ]
          },
          "metadata": {},
          "execution_count": 6
        }
      ]
    },
    {
      "cell_type": "code",
      "source": [
        "lst2=[4,5,6]\n",
        "array2=np.array(lst2)\n",
        "array2"
      ],
      "metadata": {
        "colab": {
          "base_uri": "https://localhost:8080/"
        },
        "id": "hYC38VfA5eLE",
        "outputId": "7bb45405-28d3-428d-80fd-0dfe3523913d"
      },
      "execution_count": null,
      "outputs": [
        {
          "output_type": "execute_result",
          "data": {
            "text/plain": [
              "array([4, 5, 6])"
            ]
          },
          "metadata": {},
          "execution_count": 7
        }
      ]
    },
    {
      "cell_type": "code",
      "source": [
        "print(\"array2 multiplied by array1:\",array1*array2)\n",
        "print(\"array2 divided by array1:\",array2/array1)\n",
        "print(\"array2 raised to power of array1:\",array2**array1)\n",
        "print(\"array2 added by array1:\",array1+array2)"
      ],
      "metadata": {
        "colab": {
          "base_uri": "https://localhost:8080/"
        },
        "id": "WZlN7lqq5tgc",
        "outputId": "86ce8e5b-4656-4fa2-baca-b6111b0c78d0"
      },
      "execution_count": null,
      "outputs": [
        {
          "output_type": "stream",
          "name": "stdout",
          "text": [
            "array2 multiplied by array1: [ 4 10 18]\n",
            "array2 divided by array1: [4.  2.5 2. ]\n",
            "array2 raised to power of array1: [  4  25 216]\n",
            "array2 added by array1: [5 7 9]\n"
          ]
        }
      ]
    },
    {
      "cell_type": "code",
      "source": [
        "#sine function\n",
        "print(\"sin:\",np.sin(array1))\n",
        "#logarithm\n",
        "print(\"Natural logarithm:\",np.log(array1))\n",
        "print(\"Base-10 logarithm:\")"
      ],
      "metadata": {
        "id": "jp4meJZT6s7o"
      },
      "execution_count": null,
      "outputs": []
    }
  ]
}